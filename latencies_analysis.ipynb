{
  "nbformat": 4,
  "nbformat_minor": 0,
  "metadata": {
    "colab": {
      "provenance": [],
      "authorship_tag": "ABX9TyPKzsra0AX4RfUZpSfmqYY6",
      "include_colab_link": true
    },
    "kernelspec": {
      "name": "python3",
      "display_name": "Python 3"
    },
    "language_info": {
      "name": "python"
    }
  },
  "cells": [
    {
      "cell_type": "markdown",
      "metadata": {
        "id": "view-in-github",
        "colab_type": "text"
      },
      "source": [
        "<a href=\"https://colab.research.google.com/github/aquemi/latency_analysis/blob/main/latencies_analysis.ipynb\" target=\"_parent\"><img src=\"https://colab.research.google.com/assets/colab-badge.svg\" alt=\"Open In Colab\"/></a>"
      ]
    },
    {
      "cell_type": "markdown",
      "source": [
        "#### Proposta de identificar automaticamente uma degradação (piora) no tempo de resposta de um serviço.\n",
        "\n",
        "*   Conjunto de dados: temos 24 linhas com as colunas de número do serviço, data de criação, data de atualização, dia e medições de latência por minuto.\n",
        "\n",
        "> Conteúdo:\n",
        "1. Importar bibliotecas necessárias e carregar a tabela com os dados;\n",
        "2. Checar o tipo dos dados, ordená-los e transformá-los para manipulação;\n",
        "3. Plotar a latência total ao longo do tempo;\n",
        "4. Verificar se a série temporal segue uma distribuição normal através do teste de Shapiro-Wilk Test;\n",
        "5. Detectar os outliers (valores com grande aumento na latência) e pegar os índices de cada hora que isso acontece;\n",
        "6. Discussão gráficos de análise de latência.\n"
      ],
      "metadata": {
        "id": "XZMrqQ-Bhxee"
      }
    },
    {
      "cell_type": "markdown",
      "source": [
        "#### 1. Importar bibliotecas, carregar a tabela com os dados;"
      ],
      "metadata": {
        "id": "QGTSGW9YVrue"
      }
    },
    {
      "cell_type": "code",
      "execution_count": 230,
      "metadata": {
        "id": "rlOe2v1uKLZa"
      },
      "outputs": [],
      "source": [
        "import pandas as pd\n",
        "from matplotlib import pyplot as plt\n",
        "import numpy as np\n",
        "from google.colab import drive  \n",
        "from itertools import chain\n"
      ]
    },
    {
      "cell_type": "code",
      "source": [
        "drive.mount('/content/drive/',force_remount=True)\n",
        "table_dir_file = '/content/drive/MyDrive/desafio_latencia/latencies_table.csv'"
      ],
      "metadata": {
        "colab": {
          "base_uri": "https://localhost:8080/"
        },
        "id": "APiXaG7bg_Cy",
        "outputId": "001e0af1-3c79-4270-d1a5-6df03da062d5"
      },
      "execution_count": 231,
      "outputs": [
        {
          "output_type": "stream",
          "name": "stdout",
          "text": [
            "Mounted at /content/drive/\n"
          ]
        }
      ]
    },
    {
      "cell_type": "markdown",
      "source": [
        "Leitura da tabela com a biblioteca pandas:"
      ],
      "metadata": {
        "id": "7tBORIFIU2qW"
      }
    },
    {
      "cell_type": "code",
      "source": [
        "latencies_table = pd.read_csv(table_dir_file)"
      ],
      "metadata": {
        "id": "HIr_W9oFKTtH"
      },
      "execution_count": 232,
      "outputs": []
    },
    {
      "cell_type": "code",
      "source": [
        "latencies_table.head(2)"
      ],
      "metadata": {
        "colab": {
          "base_uri": "https://localhost:8080/",
          "height": 112
        },
        "id": "-msxnKc2KgIx",
        "outputId": "c510c15a-c104-43f5-dd1f-95c1ee91eeec"
      },
      "execution_count": 233,
      "outputs": [
        {
          "output_type": "execute_result",
          "data": {
            "text/plain": [
              "   service                     created_at                     updated_at  \\\n",
              "0    12047  2023-03-19 21:00:38.306 -0300  2023-03-19 21:59:38.574 -0300   \n",
              "1    12047  2023-03-19 13:00:38.486 -0300  2023-03-19 13:59:39.271 -0300   \n",
              "\n",
              "                             day  \\\n",
              "0  2023-03-19 21:59:38.339 -0300   \n",
              "1  2023-03-19 13:59:38.245 -0300   \n",
              "\n",
              "                                           latencies  \n",
              "0  6410,6774,6470,6346,7002,7938,6588,8353,6516,7...  \n",
              "1  6481,10298,8093,8685,8917,6827,8025,6632,9610,...  "
            ],
            "text/html": [
              "\n",
              "  <div id=\"df-edea8079-8ce3-42ad-baa2-69fe54164207\">\n",
              "    <div class=\"colab-df-container\">\n",
              "      <div>\n",
              "<style scoped>\n",
              "    .dataframe tbody tr th:only-of-type {\n",
              "        vertical-align: middle;\n",
              "    }\n",
              "\n",
              "    .dataframe tbody tr th {\n",
              "        vertical-align: top;\n",
              "    }\n",
              "\n",
              "    .dataframe thead th {\n",
              "        text-align: right;\n",
              "    }\n",
              "</style>\n",
              "<table border=\"1\" class=\"dataframe\">\n",
              "  <thead>\n",
              "    <tr style=\"text-align: right;\">\n",
              "      <th></th>\n",
              "      <th>service</th>\n",
              "      <th>created_at</th>\n",
              "      <th>updated_at</th>\n",
              "      <th>day</th>\n",
              "      <th>latencies</th>\n",
              "    </tr>\n",
              "  </thead>\n",
              "  <tbody>\n",
              "    <tr>\n",
              "      <th>0</th>\n",
              "      <td>12047</td>\n",
              "      <td>2023-03-19 21:00:38.306 -0300</td>\n",
              "      <td>2023-03-19 21:59:38.574 -0300</td>\n",
              "      <td>2023-03-19 21:59:38.339 -0300</td>\n",
              "      <td>6410,6774,6470,6346,7002,7938,6588,8353,6516,7...</td>\n",
              "    </tr>\n",
              "    <tr>\n",
              "      <th>1</th>\n",
              "      <td>12047</td>\n",
              "      <td>2023-03-19 13:00:38.486 -0300</td>\n",
              "      <td>2023-03-19 13:59:39.271 -0300</td>\n",
              "      <td>2023-03-19 13:59:38.245 -0300</td>\n",
              "      <td>6481,10298,8093,8685,8917,6827,8025,6632,9610,...</td>\n",
              "    </tr>\n",
              "  </tbody>\n",
              "</table>\n",
              "</div>\n",
              "      <button class=\"colab-df-convert\" onclick=\"convertToInteractive('df-edea8079-8ce3-42ad-baa2-69fe54164207')\"\n",
              "              title=\"Convert this dataframe to an interactive table.\"\n",
              "              style=\"display:none;\">\n",
              "        \n",
              "  <svg xmlns=\"http://www.w3.org/2000/svg\" height=\"24px\"viewBox=\"0 0 24 24\"\n",
              "       width=\"24px\">\n",
              "    <path d=\"M0 0h24v24H0V0z\" fill=\"none\"/>\n",
              "    <path d=\"M18.56 5.44l.94 2.06.94-2.06 2.06-.94-2.06-.94-.94-2.06-.94 2.06-2.06.94zm-11 1L8.5 8.5l.94-2.06 2.06-.94-2.06-.94L8.5 2.5l-.94 2.06-2.06.94zm10 10l.94 2.06.94-2.06 2.06-.94-2.06-.94-.94-2.06-.94 2.06-2.06.94z\"/><path d=\"M17.41 7.96l-1.37-1.37c-.4-.4-.92-.59-1.43-.59-.52 0-1.04.2-1.43.59L10.3 9.45l-7.72 7.72c-.78.78-.78 2.05 0 2.83L4 21.41c.39.39.9.59 1.41.59.51 0 1.02-.2 1.41-.59l7.78-7.78 2.81-2.81c.8-.78.8-2.07 0-2.86zM5.41 20L4 18.59l7.72-7.72 1.47 1.35L5.41 20z\"/>\n",
              "  </svg>\n",
              "      </button>\n",
              "      \n",
              "  <style>\n",
              "    .colab-df-container {\n",
              "      display:flex;\n",
              "      flex-wrap:wrap;\n",
              "      gap: 12px;\n",
              "    }\n",
              "\n",
              "    .colab-df-convert {\n",
              "      background-color: #E8F0FE;\n",
              "      border: none;\n",
              "      border-radius: 50%;\n",
              "      cursor: pointer;\n",
              "      display: none;\n",
              "      fill: #1967D2;\n",
              "      height: 32px;\n",
              "      padding: 0 0 0 0;\n",
              "      width: 32px;\n",
              "    }\n",
              "\n",
              "    .colab-df-convert:hover {\n",
              "      background-color: #E2EBFA;\n",
              "      box-shadow: 0px 1px 2px rgba(60, 64, 67, 0.3), 0px 1px 3px 1px rgba(60, 64, 67, 0.15);\n",
              "      fill: #174EA6;\n",
              "    }\n",
              "\n",
              "    [theme=dark] .colab-df-convert {\n",
              "      background-color: #3B4455;\n",
              "      fill: #D2E3FC;\n",
              "    }\n",
              "\n",
              "    [theme=dark] .colab-df-convert:hover {\n",
              "      background-color: #434B5C;\n",
              "      box-shadow: 0px 1px 3px 1px rgba(0, 0, 0, 0.15);\n",
              "      filter: drop-shadow(0px 1px 2px rgba(0, 0, 0, 0.3));\n",
              "      fill: #FFFFFF;\n",
              "    }\n",
              "  </style>\n",
              "\n",
              "      <script>\n",
              "        const buttonEl =\n",
              "          document.querySelector('#df-edea8079-8ce3-42ad-baa2-69fe54164207 button.colab-df-convert');\n",
              "        buttonEl.style.display =\n",
              "          google.colab.kernel.accessAllowed ? 'block' : 'none';\n",
              "\n",
              "        async function convertToInteractive(key) {\n",
              "          const element = document.querySelector('#df-edea8079-8ce3-42ad-baa2-69fe54164207');\n",
              "          const dataTable =\n",
              "            await google.colab.kernel.invokeFunction('convertToInteractive',\n",
              "                                                     [key], {});\n",
              "          if (!dataTable) return;\n",
              "\n",
              "          const docLinkHtml = 'Like what you see? Visit the ' +\n",
              "            '<a target=\"_blank\" href=https://colab.research.google.com/notebooks/data_table.ipynb>data table notebook</a>'\n",
              "            + ' to learn more about interactive tables.';\n",
              "          element.innerHTML = '';\n",
              "          dataTable['output_type'] = 'display_data';\n",
              "          await google.colab.output.renderOutput(dataTable, element);\n",
              "          const docLink = document.createElement('div');\n",
              "          docLink.innerHTML = docLinkHtml;\n",
              "          element.appendChild(docLink);\n",
              "        }\n",
              "      </script>\n",
              "    </div>\n",
              "  </div>\n",
              "  "
            ]
          },
          "metadata": {},
          "execution_count": 233
        }
      ]
    },
    {
      "cell_type": "markdown",
      "source": [
        "#### 2. Checar o tipo dos dados, ordená-los e transformá-los;"
      ],
      "metadata": {
        "id": "YOPh3DqkVm59"
      }
    },
    {
      "cell_type": "markdown",
      "source": [
        "Verificação do tipo de dado de cada coluna:"
      ],
      "metadata": {
        "id": "PusKdjbKVANO"
      }
    },
    {
      "cell_type": "code",
      "source": [
        "latencies_table.dtypes"
      ],
      "metadata": {
        "colab": {
          "base_uri": "https://localhost:8080/"
        },
        "id": "e29JVRKLObY0",
        "outputId": "4c0b11cb-98d2-46ea-8249-b482125cdd18"
      },
      "execution_count": 234,
      "outputs": [
        {
          "output_type": "execute_result",
          "data": {
            "text/plain": [
              "service        int64\n",
              "created_at    object\n",
              "updated_at    object\n",
              "day           object\n",
              "latencies     object\n",
              "dtype: object"
            ]
          },
          "metadata": {},
          "execution_count": 234
        }
      ]
    },
    {
      "cell_type": "markdown",
      "source": [
        "Vamos ordenar cronologicamente as medições a partir da coluna *created_at* da seguinte forma:"
      ],
      "metadata": {
        "id": "dk9GVrcXXWAQ"
      }
    },
    {
      "cell_type": "code",
      "source": [
        "latencies_table.sort_values(by='created_at', inplace = True) # ordem cronológica\n",
        "latencies_table.head(2)"
      ],
      "metadata": {
        "colab": {
          "base_uri": "https://localhost:8080/",
          "height": 112
        },
        "id": "jj2l5vgjQWwT",
        "outputId": "1c46e1b6-f0bf-4591-a534-56f62fb5e3d4"
      },
      "execution_count": 235,
      "outputs": [
        {
          "output_type": "execute_result",
          "data": {
            "text/plain": [
              "   service                     created_at                     updated_at  \\\n",
              "1    12047  2023-03-19 13:00:38.486 -0300  2023-03-19 13:59:39.271 -0300   \n",
              "9    12047  2023-03-19 14:00:39.101 -0300  2023-03-19 14:59:38.926 -0300   \n",
              "\n",
              "                             day  \\\n",
              "1  2023-03-19 13:59:38.245 -0300   \n",
              "9  2023-03-19 14:59:38.258 -0300   \n",
              "\n",
              "                                           latencies  \n",
              "1  6481,10298,8093,8685,8917,6827,8025,6632,9610,...  \n",
              "9  7734,22091,6936,9525,6905,34099,9581,10556,101...  "
            ],
            "text/html": [
              "\n",
              "  <div id=\"df-05762a1a-0013-4597-9b30-75edf0b5613f\">\n",
              "    <div class=\"colab-df-container\">\n",
              "      <div>\n",
              "<style scoped>\n",
              "    .dataframe tbody tr th:only-of-type {\n",
              "        vertical-align: middle;\n",
              "    }\n",
              "\n",
              "    .dataframe tbody tr th {\n",
              "        vertical-align: top;\n",
              "    }\n",
              "\n",
              "    .dataframe thead th {\n",
              "        text-align: right;\n",
              "    }\n",
              "</style>\n",
              "<table border=\"1\" class=\"dataframe\">\n",
              "  <thead>\n",
              "    <tr style=\"text-align: right;\">\n",
              "      <th></th>\n",
              "      <th>service</th>\n",
              "      <th>created_at</th>\n",
              "      <th>updated_at</th>\n",
              "      <th>day</th>\n",
              "      <th>latencies</th>\n",
              "    </tr>\n",
              "  </thead>\n",
              "  <tbody>\n",
              "    <tr>\n",
              "      <th>1</th>\n",
              "      <td>12047</td>\n",
              "      <td>2023-03-19 13:00:38.486 -0300</td>\n",
              "      <td>2023-03-19 13:59:39.271 -0300</td>\n",
              "      <td>2023-03-19 13:59:38.245 -0300</td>\n",
              "      <td>6481,10298,8093,8685,8917,6827,8025,6632,9610,...</td>\n",
              "    </tr>\n",
              "    <tr>\n",
              "      <th>9</th>\n",
              "      <td>12047</td>\n",
              "      <td>2023-03-19 14:00:39.101 -0300</td>\n",
              "      <td>2023-03-19 14:59:38.926 -0300</td>\n",
              "      <td>2023-03-19 14:59:38.258 -0300</td>\n",
              "      <td>7734,22091,6936,9525,6905,34099,9581,10556,101...</td>\n",
              "    </tr>\n",
              "  </tbody>\n",
              "</table>\n",
              "</div>\n",
              "      <button class=\"colab-df-convert\" onclick=\"convertToInteractive('df-05762a1a-0013-4597-9b30-75edf0b5613f')\"\n",
              "              title=\"Convert this dataframe to an interactive table.\"\n",
              "              style=\"display:none;\">\n",
              "        \n",
              "  <svg xmlns=\"http://www.w3.org/2000/svg\" height=\"24px\"viewBox=\"0 0 24 24\"\n",
              "       width=\"24px\">\n",
              "    <path d=\"M0 0h24v24H0V0z\" fill=\"none\"/>\n",
              "    <path d=\"M18.56 5.44l.94 2.06.94-2.06 2.06-.94-2.06-.94-.94-2.06-.94 2.06-2.06.94zm-11 1L8.5 8.5l.94-2.06 2.06-.94-2.06-.94L8.5 2.5l-.94 2.06-2.06.94zm10 10l.94 2.06.94-2.06 2.06-.94-2.06-.94-.94-2.06-.94 2.06-2.06.94z\"/><path d=\"M17.41 7.96l-1.37-1.37c-.4-.4-.92-.59-1.43-.59-.52 0-1.04.2-1.43.59L10.3 9.45l-7.72 7.72c-.78.78-.78 2.05 0 2.83L4 21.41c.39.39.9.59 1.41.59.51 0 1.02-.2 1.41-.59l7.78-7.78 2.81-2.81c.8-.78.8-2.07 0-2.86zM5.41 20L4 18.59l7.72-7.72 1.47 1.35L5.41 20z\"/>\n",
              "  </svg>\n",
              "      </button>\n",
              "      \n",
              "  <style>\n",
              "    .colab-df-container {\n",
              "      display:flex;\n",
              "      flex-wrap:wrap;\n",
              "      gap: 12px;\n",
              "    }\n",
              "\n",
              "    .colab-df-convert {\n",
              "      background-color: #E8F0FE;\n",
              "      border: none;\n",
              "      border-radius: 50%;\n",
              "      cursor: pointer;\n",
              "      display: none;\n",
              "      fill: #1967D2;\n",
              "      height: 32px;\n",
              "      padding: 0 0 0 0;\n",
              "      width: 32px;\n",
              "    }\n",
              "\n",
              "    .colab-df-convert:hover {\n",
              "      background-color: #E2EBFA;\n",
              "      box-shadow: 0px 1px 2px rgba(60, 64, 67, 0.3), 0px 1px 3px 1px rgba(60, 64, 67, 0.15);\n",
              "      fill: #174EA6;\n",
              "    }\n",
              "\n",
              "    [theme=dark] .colab-df-convert {\n",
              "      background-color: #3B4455;\n",
              "      fill: #D2E3FC;\n",
              "    }\n",
              "\n",
              "    [theme=dark] .colab-df-convert:hover {\n",
              "      background-color: #434B5C;\n",
              "      box-shadow: 0px 1px 3px 1px rgba(0, 0, 0, 0.15);\n",
              "      filter: drop-shadow(0px 1px 2px rgba(0, 0, 0, 0.3));\n",
              "      fill: #FFFFFF;\n",
              "    }\n",
              "  </style>\n",
              "\n",
              "      <script>\n",
              "        const buttonEl =\n",
              "          document.querySelector('#df-05762a1a-0013-4597-9b30-75edf0b5613f button.colab-df-convert');\n",
              "        buttonEl.style.display =\n",
              "          google.colab.kernel.accessAllowed ? 'block' : 'none';\n",
              "\n",
              "        async function convertToInteractive(key) {\n",
              "          const element = document.querySelector('#df-05762a1a-0013-4597-9b30-75edf0b5613f');\n",
              "          const dataTable =\n",
              "            await google.colab.kernel.invokeFunction('convertToInteractive',\n",
              "                                                     [key], {});\n",
              "          if (!dataTable) return;\n",
              "\n",
              "          const docLinkHtml = 'Like what you see? Visit the ' +\n",
              "            '<a target=\"_blank\" href=https://colab.research.google.com/notebooks/data_table.ipynb>data table notebook</a>'\n",
              "            + ' to learn more about interactive tables.';\n",
              "          element.innerHTML = '';\n",
              "          dataTable['output_type'] = 'display_data';\n",
              "          await google.colab.output.renderOutput(dataTable, element);\n",
              "          const docLink = document.createElement('div');\n",
              "          docLink.innerHTML = docLinkHtml;\n",
              "          element.appendChild(docLink);\n",
              "        }\n",
              "      </script>\n",
              "    </div>\n",
              "  </div>\n",
              "  "
            ]
          },
          "metadata": {},
          "execution_count": 235
        }
      ]
    },
    {
      "cell_type": "markdown",
      "source": [
        "Transforma a coluna latencies de string para int:"
      ],
      "metadata": {
        "id": "HjH24yJqXeG7"
      }
    },
    {
      "cell_type": "code",
      "source": [
        "latencies_table.latencies[0] # a coluna 'latencies' inicialmente é uma string (frase), de forma que não é possível plotar ou fazer cálculos"
      ],
      "metadata": {
        "colab": {
          "base_uri": "https://localhost:8080/",
          "height": 70
        },
        "id": "ArlIRpFJUy84",
        "outputId": "0f3f3b8a-bf7c-4772-8670-ad40c1957156"
      },
      "execution_count": 120,
      "outputs": [
        {
          "output_type": "execute_result",
          "data": {
            "text/plain": [
              "'6410,6774,6470,6346,7002,7938,6588,8353,6516,7638,8735,7899,7143,8086,8607,6603,10490,9843,6770,7754,7876,34607,7057,10673,8488,7568,7444,6849,6430,12031,12228,7581,8407,5573,6751,7590,14624,27360,30476,7626,5559,10657,7817,9984,6576,11099,11861,7912,7697,10036,6856,6899,6001,10692,17682,15064,8959,7825,7291,8146'"
            ],
            "application/vnd.google.colaboratory.intrinsic+json": {
              "type": "string"
            }
          },
          "metadata": {},
          "execution_count": 120
        }
      ]
    },
    {
      "cell_type": "code",
      "source": [
        "for i in latencies_table.index: #RangeIndex(start=0, stop=24, step=1)\n",
        "  latencies_table['latencies'][i] = list(map(int, latencies_table['latencies'][i].split(','))) #separa cada elemento de acordo com a vírgula e transforma em inteiros"
      ],
      "metadata": {
        "id": "FCyhY0TURW3D"
      },
      "execution_count": 236,
      "outputs": []
    },
    {
      "cell_type": "code",
      "source": [
        "latencies_table.latencies"
      ],
      "metadata": {
        "colab": {
          "base_uri": "https://localhost:8080/"
        },
        "id": "etQbK_HGcGwv",
        "outputId": "62f2a8f0-5a9e-4635-f7f7-b6e5dec6b299"
      },
      "execution_count": 237,
      "outputs": [
        {
          "output_type": "execute_result",
          "data": {
            "text/plain": [
              "1     [6481, 10298, 8093, 8685, 8917, 6827, 8025, 66...\n",
              "9     [7734, 22091, 6936, 9525, 6905, 34099, 9581, 1...\n",
              "13    [6895, 6169, 8580, 11341, 7138, 9519, 8547, 84...\n",
              "3     [9952, 19955, 11971, 20456, 10129, 8323, 10520...\n",
              "16    [9303, 13127, 5800, 12859, 6691, 8567, 7123, 1...\n",
              "8     [8954, 8204, 6565, 10183, 7666, 8494, 7380, 67...\n",
              "14    [6303, 7278, 5815, 6662, 6232, 9514, 7406, 129...\n",
              "10    [8005, 7064, 7229, 6917, 6135, 5079, 45655, 83...\n",
              "0     [6410, 6774, 6470, 6346, 7002, 7938, 6588, 835...\n",
              "5     [8507, 10464, 6946, 8164, 8388, 9984, 6846, 77...\n",
              "12    [10026, 8915, 7465, 8251, 7895, 8326, 9672, 13...\n",
              "22    [8981, 7870, 6984, 15243, 8222, 7432, 7966, 68...\n",
              "15    [9919, 7299, 6507, 10793, 10495, 8516, 7455, 7...\n",
              "20    [8509, 7039, 13420, 8154, 9421, 6475, 12394, 8...\n",
              "11    [53611, 58904, 19664, 9966, 8644, 7320, 14324,...\n",
              "18    [8130, 7447, 9912, 7516, 8284, 7401, 5986, 747...\n",
              "6     [7474, 6575, 6071, 9298, 7364, 8095, 7679, 801...\n",
              "7     [6814, 5977, 7185, 6573, 8049, 8660, 7639, 746...\n",
              "4     [7075, 18412, 12184, 7119, 7482, 6441, 6142, 8...\n",
              "19    [13735, 29516, 6816, 17425, 6775, 10822, 9886,...\n",
              "21    [36890, 6714, 14602, 8993, 11342, 8039, 11606,...\n",
              "17    [7321, 21876, 11490, 9777, 7570, 6591, 8008, 1...\n",
              "23    [7331, 8574, 10021, 28007, 6483, 13219, 9441, ...\n",
              "2     [34789, 55006, 128569, 22174, 13091, 8721, 138...\n",
              "Name: latencies, dtype: object"
            ]
          },
          "metadata": {},
          "execution_count": 237
        }
      ]
    },
    {
      "cell_type": "markdown",
      "source": [
        "#### 3. Plotar latência ao longo do tempo: apenas para visualização e exploração do conjunto de dados"
      ],
      "metadata": {
        "id": "Moe_tbgkWcnh"
      }
    },
    {
      "cell_type": "code",
      "source": [
        "total_med = [] # a variável total_med armazena todas as medições de latência do conjunto de dados\n",
        "for i in range(len(latencies_table)):\n",
        "  total_med.append(latencies_table['latencies'][i])\n",
        "\n",
        "total_med = list(chain.from_iterable(total_med)) # cria uma lista com todas as medições\n",
        "x = np.arange(len(total_med)) # x é a variável que contém o tamanho\n",
        "\n",
        "fig = plt.figure()\n",
        "plt.plot(x,total_med, linestyle=\"-\")\n",
        "\n",
        "plt.legend()\n",
        "plt.xlabel('Minuto')\n",
        "plt.ylabel('Latência (ms)')\n",
        "plt.title(\"Latência do período de 19/03 a 20/03/2023\")\n",
        "plt.show()"
      ],
      "metadata": {
        "colab": {
          "base_uri": "https://localhost:8080/",
          "height": 509
        },
        "id": "z_n59VYyWdDQ",
        "outputId": "d561e7b3-0b9e-441f-f425-8666550d1025"
      },
      "execution_count": 238,
      "outputs": [
        {
          "output_type": "stream",
          "name": "stderr",
          "text": [
            "WARNING:matplotlib.legend:No artists with labels found to put in legend.  Note that artists whose label start with an underscore are ignored when legend() is called with no argument.\n"
          ]
        },
        {
          "output_type": "display_data",
          "data": {
            "text/plain": [
              "<Figure size 640x480 with 1 Axes>"
            ],
            "image/png": "[encoded data removed]"
          },
          "metadata": {}
        }
      ]
    },
    {
      "cell_type": "code",
      "source": [
        "arr = np.array([total_med])\n",
        "mean_tot = np.mean(arr)\n",
        "std_tot = np.std(arr),\n",
        "print('Valor mínimo de latência(ms):',np.min(arr),\n",
        "      'Valor máximo de latência(ms):',np.max(arr))"
      ],
      "metadata": {
        "colab": {
          "base_uri": "https://localhost:8080/"
        },
        "id": "ndA_se6vXJ6C",
        "outputId": "be98ccd4-7a34-4ae8-9a12-f6437a20e580"
      },
      "execution_count": 355,
      "outputs": [
        {
          "output_type": "stream",
          "name": "stdout",
          "text": [
            "Valor mínimo de latência(ms): 4791 Valor máximo de latência(ms): 535032\n"
          ]
        }
      ]
    },
    {
      "cell_type": "code",
      "source": [
        "print('Média da latência durante 1 dia:',mean_tot,', Desvio padrão:',std_tot)"
      ],
      "metadata": {
        "colab": {
          "base_uri": "https://localhost:8080/"
        },
        "id": "vDj_LCqraZJD",
        "outputId": "f49ddfd3-7d5b-45d7-cd4e-aefeb8e3cebd"
      },
      "execution_count": 357,
      "outputs": [
        {
          "output_type": "stream",
          "name": "stdout",
          "text": [
            "Média da latência durante 1 dia: 10727.07982893799 , Desvio padrão: (17616.191160408147,)\n"
          ]
        }
      ]
    },
    {
      "cell_type": "markdown",
      "source": [
        "#### 4. Para detectarmos valores de alta latência, devemos verificar se a série temporal segue uma distribuição normal ou não e em seguida utilizar a abordagem mais adequada. Para isso, podemos utilizar o teste de Shapiro-Wilk:\n"
      ],
      "metadata": {
        "id": "J-oHPXjUWm1S"
      }
    },
    {
      "cell_type": "code",
      "source": [
        "from scipy.stats import shapiro\n",
        "\n",
        "# conduct the  Shapiro-Wilk Test\n",
        "shapiro(total_med)"
      ],
      "metadata": {
        "colab": {
          "base_uri": "https://localhost:8080/"
        },
        "id": "p1f5BAtQXntl",
        "outputId": "8a904f82-f337-4202-f053-f2ffc08b1818"
      },
      "execution_count": 240,
      "outputs": [
        {
          "output_type": "execute_result",
          "data": {
            "text/plain": [
              "ShapiroResult(statistic=0.16393673419952393, pvalue=0.0)"
            ]
          },
          "metadata": {},
          "execution_count": 240
        }
      ]
    },
    {
      "cell_type": "markdown",
      "source": [
        "A hipótese nula do teste de Shapiro-Wilk é que a população possui distribuição normal. Portanto, um valor de p < 0.05 indica que podemos rejeitar a hipótese nula, ou seja, os dados não possuem distribuição normal."
      ],
      "metadata": {
        "id": "3rDnO-BJYIQY"
      }
    },
    {
      "cell_type": "markdown",
      "source": [
        "#### 5. Como não temos uma distribuição normal dos dados, vamos determinar os valores que diferem do conjunto de medições coletados através da análise de boxplot. Dessa forma iremos detectar os valores com grande aumento na latência (outliers) para cada hora, o que indica uma piora no tempo de resposta do serviço.\n"
      ],
      "metadata": {
        "id": "LL1k9lAsXoF3"
      }
    },
    {
      "cell_type": "code",
      "source": [
        "outliers=[]\n",
        "for i in latencies_table.index:\n",
        "  arr_box = np.array([latencies_table.latencies[i]])\n",
        "  # encontrando o primeiro quartil\n",
        "  q1 = np.quantile(arr_box, 0.25)\n",
        " \n",
        "  # encontrando o terceiro quartil\n",
        "  q3 = np.quantile(arr_box, 0.75)\n",
        "  med = np.median(arr_box)\n",
        " \n",
        "  # encontrando a região interquartil\n",
        "  iqr = q3-q1\n",
        " \n",
        "  # encontrando o limite superior e o inferior\n",
        "  upper_bound = q3+(1.5*iqr)\n",
        "  lower_bound = q1-(1.5*iqr)\n",
        "  #print(iqr, upper_bound, lower_bound)\n",
        "\n",
        "for i in latencies_table.index: #pegamos os índices que temos os valores de latência maior que o limite superior (outliers)\n",
        "  outliers.append([index for (index, item) in enumerate(latencies_table['latencies'][i]) if item >= upper_bound]) "
      ],
      "metadata": {
        "id": "qFq6ujGoYZY9"
      },
      "execution_count": 312,
      "outputs": []
    },
    {
      "cell_type": "markdown",
      "source": [
        "Aqui temos os índices dos outliers para cada hora:"
      ],
      "metadata": {
        "id": "5J7RtMDhc3dH"
      }
    },
    {
      "cell_type": "code",
      "source": [
        "outliers "
      ],
      "metadata": {
        "colab": {
          "base_uri": "https://localhost:8080/"
        },
        "id": "2tged5zprA4z",
        "outputId": "b5589cc9-0b0e-46a7-d405-f8e8677834d5"
      },
      "execution_count": 313,
      "outputs": [
        {
          "output_type": "execute_result",
          "data": {
            "text/plain": [
              "[[44, 58],\n",
              " [5, 11],\n",
              " [46, 51, 56],\n",
              " [14, 28],\n",
              " [],\n",
              " [],\n",
              " [15, 40, 44, 47, 50, 51],\n",
              " [6],\n",
              " [21, 37, 38],\n",
              " [12, 16],\n",
              " [34],\n",
              " [34],\n",
              " [9, 12, 19, 20],\n",
              " [8],\n",
              " [0, 1],\n",
              " [],\n",
              " [],\n",
              " [41],\n",
              " [38, 45, 52, 58, 59],\n",
              " [1, 45],\n",
              " [0, 59],\n",
              " [30, 31, 35, 38, 40],\n",
              " [3, 35, 36, 39, 42, 44, 51, 52, 55, 59],\n",
              " [0, 1, 2, 3]]"
            ]
          },
          "metadata": {},
          "execution_count": 313
        }
      ]
    },
    {
      "cell_type": "code",
      "source": [
        "latencies_table['outliers_indices'] = outliers"
      ],
      "metadata": {
        "id": "PtR6mJezrTuc"
      },
      "execution_count": 297,
      "outputs": []
    },
    {
      "cell_type": "code",
      "source": [
        "latencies_table.head(2)"
      ],
      "metadata": {
        "colab": {
          "base_uri": "https://localhost:8080/",
          "height": 191
        },
        "id": "hRzWi8Q9bZ9g",
        "outputId": "5f472cbf-cd5f-4fab-e065-00be3ca9143b"
      },
      "execution_count": 304,
      "outputs": [
        {
          "output_type": "execute_result",
          "data": {
            "text/plain": [
              "   service                     created_at                     updated_at  \\\n",
              "1    12047  2023-03-19 13:00:38.486 -0300  2023-03-19 13:59:39.271 -0300   \n",
              "9    12047  2023-03-19 14:00:39.101 -0300  2023-03-19 14:59:38.926 -0300   \n",
              "\n",
              "                             day  \\\n",
              "1  2023-03-19 13:59:38.245 -0300   \n",
              "9  2023-03-19 14:59:38.258 -0300   \n",
              "\n",
              "                                           latencies outliers_indices  \n",
              "1  [6481, 10298, 8093, 8685, 8917, 6827, 8025, 66...         [44, 58]  \n",
              "9  [7734, 22091, 6936, 9525, 6905, 34099, 9581, 1...          [5, 11]  "
            ],
            "text/html": [
              "\n",
              "  <div id=\"df-73269a23-64fe-48b9-9f9a-8c6f199525ae\">\n",
              "    <div class=\"colab-df-container\">\n",
              "      <div>\n",
              "<style scoped>\n",
              "    .dataframe tbody tr th:only-of-type {\n",
              "        vertical-align: middle;\n",
              "    }\n",
              "\n",
              "    .dataframe tbody tr th {\n",
              "        vertical-align: top;\n",
              "    }\n",
              "\n",
              "    .dataframe thead th {\n",
              "        text-align: right;\n",
              "    }\n",
              "</style>\n",
              "<table border=\"1\" class=\"dataframe\">\n",
              "  <thead>\n",
              "    <tr style=\"text-align: right;\">\n",
              "      <th></th>\n",
              "      <th>service</th>\n",
              "      <th>created_at</th>\n",
              "      <th>updated_at</th>\n",
              "      <th>day</th>\n",
              "      <th>latencies</th>\n",
              "      <th>outliers_indices</th>\n",
              "    </tr>\n",
              "  </thead>\n",
              "  <tbody>\n",
              "    <tr>\n",
              "      <th>1</th>\n",
              "      <td>12047</td>\n",
              "      <td>2023-03-19 13:00:38.486 -0300</td>\n",
              "      <td>2023-03-19 13:59:39.271 -0300</td>\n",
              "      <td>2023-03-19 13:59:38.245 -0300</td>\n",
              "      <td>[6481, 10298, 8093, 8685, 8917, 6827, 8025, 66...</td>\n",
              "      <td>[44, 58]</td>\n",
              "    </tr>\n",
              "    <tr>\n",
              "      <th>9</th>\n",
              "      <td>12047</td>\n",
              "      <td>2023-03-19 14:00:39.101 -0300</td>\n",
              "      <td>2023-03-19 14:59:38.926 -0300</td>\n",
              "      <td>2023-03-19 14:59:38.258 -0300</td>\n",
              "      <td>[7734, 22091, 6936, 9525, 6905, 34099, 9581, 1...</td>\n",
              "      <td>[5, 11]</td>\n",
              "    </tr>\n",
              "  </tbody>\n",
              "</table>\n",
              "</div>\n",
              "      <button class=\"colab-df-convert\" onclick=\"convertToInteractive('df-73269a23-64fe-48b9-9f9a-8c6f199525ae')\"\n",
              "              title=\"Convert this dataframe to an interactive table.\"\n",
              "              style=\"display:none;\">\n",
              "        \n",
              "  <svg xmlns=\"http://www.w3.org/2000/svg\" height=\"24px\"viewBox=\"0 0 24 24\"\n",
              "       width=\"24px\">\n",
              "    <path d=\"M0 0h24v24H0V0z\" fill=\"none\"/>\n",
              "    <path d=\"M18.56 5.44l.94 2.06.94-2.06 2.06-.94-2.06-.94-.94-2.06-.94 2.06-2.06.94zm-11 1L8.5 8.5l.94-2.06 2.06-.94-2.06-.94L8.5 2.5l-.94 2.06-2.06.94zm10 10l.94 2.06.94-2.06 2.06-.94-2.06-.94-.94-2.06-.94 2.06-2.06.94z\"/><path d=\"M17.41 7.96l-1.37-1.37c-.4-.4-.92-.59-1.43-.59-.52 0-1.04.2-1.43.59L10.3 9.45l-7.72 7.72c-.78.78-.78 2.05 0 2.83L4 21.41c.39.39.9.59 1.41.59.51 0 1.02-.2 1.41-.59l7.78-7.78 2.81-2.81c.8-.78.8-2.07 0-2.86zM5.41 20L4 18.59l7.72-7.72 1.47 1.35L5.41 20z\"/>\n",
              "  </svg>\n",
              "      </button>\n",
              "      \n",
              "  <style>\n",
              "    .colab-df-container {\n",
              "      display:flex;\n",
              "      flex-wrap:wrap;\n",
              "      gap: 12px;\n",
              "    }\n",
              "\n",
              "    .colab-df-convert {\n",
              "      background-color: #E8F0FE;\n",
              "      border: none;\n",
              "      border-radius: 50%;\n",
              "      cursor: pointer;\n",
              "      display: none;\n",
              "      fill: #1967D2;\n",
              "      height: 32px;\n",
              "      padding: 0 0 0 0;\n",
              "      width: 32px;\n",
              "    }\n",
              "\n",
              "    .colab-df-convert:hover {\n",
              "      background-color: #E2EBFA;\n",
              "      box-shadow: 0px 1px 2px rgba(60, 64, 67, 0.3), 0px 1px 3px 1px rgba(60, 64, 67, 0.15);\n",
              "      fill: #174EA6;\n",
              "    }\n",
              "\n",
              "    [theme=dark] .colab-df-convert {\n",
              "      background-color: #3B4455;\n",
              "      fill: #D2E3FC;\n",
              "    }\n",
              "\n",
              "    [theme=dark] .colab-df-convert:hover {\n",
              "      background-color: #434B5C;\n",
              "      box-shadow: 0px 1px 3px 1px rgba(0, 0, 0, 0.15);\n",
              "      filter: drop-shadow(0px 1px 2px rgba(0, 0, 0, 0.3));\n",
              "      fill: #FFFFFF;\n",
              "    }\n",
              "  </style>\n",
              "\n",
              "      <script>\n",
              "        const buttonEl =\n",
              "          document.querySelector('#df-73269a23-64fe-48b9-9f9a-8c6f199525ae button.colab-df-convert');\n",
              "        buttonEl.style.display =\n",
              "          google.colab.kernel.accessAllowed ? 'block' : 'none';\n",
              "\n",
              "        async function convertToInteractive(key) {\n",
              "          const element = document.querySelector('#df-73269a23-64fe-48b9-9f9a-8c6f199525ae');\n",
              "          const dataTable =\n",
              "            await google.colab.kernel.invokeFunction('convertToInteractive',\n",
              "                                                     [key], {});\n",
              "          if (!dataTable) return;\n",
              "\n",
              "          const docLinkHtml = 'Like what you see? Visit the ' +\n",
              "            '<a target=\"_blank\" href=https://colab.research.google.com/notebooks/data_table.ipynb>data table notebook</a>'\n",
              "            + ' to learn more about interactive tables.';\n",
              "          element.innerHTML = '';\n",
              "          dataTable['output_type'] = 'display_data';\n",
              "          await google.colab.output.renderOutput(dataTable, element);\n",
              "          const docLink = document.createElement('div');\n",
              "          docLink.innerHTML = docLinkHtml;\n",
              "          element.appendChild(docLink);\n",
              "        }\n",
              "      </script>\n",
              "    </div>\n",
              "  </div>\n",
              "  "
            ]
          },
          "metadata": {},
          "execution_count": 304
        }
      ]
    },
    {
      "cell_type": "markdown",
      "source": [
        "No gráfico abaixo podemos observar dois picos de latência, acima de 30 segundos, que ocorreram das 14h às 14h59, no dia 19/03/2023."
      ],
      "metadata": {
        "id": "yDBBT8rVAZjA"
      }
    },
    {
      "cell_type": "markdown",
      "source": [
        "#### 6. Discussão gráficos de análise de latência."
      ],
      "metadata": {
        "id": "RM9X9VIpdKsY"
      }
    },
    {
      "cell_type": "markdown",
      "source": [
        "Na figura abaixo temos um gráfico que ilustra o tempo de resposta de acordo com cada minuto, no período das 14h até 14h59, do dia 19/03/2023. Na marcação representada por um losango, podemos observar dois picos de latência, acima de 30 segundos. "
      ],
      "metadata": {
        "id": "jOoQJYUlevaM"
      }
    },
    {
      "cell_type": "code",
      "source": [
        "fig = plt.figure()\n",
        "markers_on = latencies_table[\"outliers_indices\"][9]\n",
        "plt.plot(latencies_table[\"latencies\"][9], '-gD', markevery=markers_on, linestyle=\"-\",label='Alto valor de latência')\n",
        "\n",
        "for i, v in enumerate(markers_on):\n",
        "  print(i,v)\n",
        "  plt.annotate(str(v), xy=(i,v),  textcoords='offset points')\n",
        "\n",
        "plt.grid()\n",
        "plt.legend()\n",
        "plt.xlabel('Minuto')\n",
        "plt.ylabel('Latência (ms)')\n",
        "plt.title(\"Latência 14h~14h59, 19/03/2023\")\n",
        "plt.show()"
      ],
      "metadata": {
        "colab": {
          "base_uri": "https://localhost:8080/",
          "height": 507
        },
        "id": "EQdNbzoPrrI6",
        "outputId": "335ec808-1281-404c-9001-eee4a2ae324d"
      },
      "execution_count": 326,
      "outputs": [
        {
          "output_type": "stream",
          "name": "stdout",
          "text": [
            "0 5\n",
            "1 11\n"
          ]
        },
        {
          "output_type": "display_data",
          "data": {
            "text/plain": [
              "<Figure size 640x480 with 1 Axes>"
            ],
            "image/png": "[encoded data removed]"
          },
          "metadata": {}
        }
      ]
    },
    {
      "cell_type": "markdown",
      "source": [
        "De acordo com o gráfico abaixo, podemos ver a quantidade de vezes que aconteceu um aumento da latência a cada hora, durante 24h. A maior quantidade aconteceu por volta das 11h. Podemos fazer a mesma análise para uma quantidade maior de dados históricos para verificar se isso é recorrente."
      ],
      "metadata": {
        "id": "jJbDpNRz_EEv"
      }
    },
    {
      "cell_type": "code",
      "source": [
        "import numpy as np\n",
        "import matplotlib.pyplot as plt\n",
        " \n",
        "fig = plt.figure(figsize = (10, 5))\n",
        "dat = pd.date_range(latencies_table['created_at'][1],periods=24,freq='1H')\n",
        "\n",
        "plt.bar(dat.hour, latencies_table['qtd_falhas'], color ='maroon', width = 0.4)\n",
        "\n",
        "plt.xlabel(\"Horário\")\n",
        "plt.ylabel(\"Quantidade\")\n",
        "plt.title(\"Quantidade de vezes de aumento da latência do serviço 12047 a cada hora\")\n",
        "plt.show()"
      ],
      "metadata": {
        "colab": {
          "base_uri": "https://localhost:8080/",
          "height": 487
        },
        "id": "pbdfNr7TwBeP",
        "outputId": "7e73d194-a5df-41b6-a05c-b7feadc6f78c"
      },
      "execution_count": 352,
      "outputs": [
        {
          "output_type": "display_data",
          "data": {
            "text/plain": [
              "<Figure size 1000x500 with 1 Axes>"
            ],
            "image/png": "[encoded data removed]"
          },
          "metadata": {}
        }
      ]
    },
    {
      "cell_type": "code",
      "source": [
        "latencies_table.to_csv('latencies_outliers.csv') #exportando os dados para análises futuras"
      ],
      "metadata": {
        "id": "j-Cf8VYo3OCf"
      },
      "execution_count": 350,
      "outputs": []
    },
    {
      "cell_type": "markdown",
      "source": [
        "Obrigada pela sua atenção ao acompanhar esta análise."
      ],
      "metadata": {
        "id": "zKfwDnBQf1Kq"
      }
    }
  ]
}